{
 "cells": [
  {
   "cell_type": "markdown",
   "metadata": {},
   "source": [
    "# Projecto 1: Regresión\n",
    "## Grupo 7"
   ]
  },
  {
   "cell_type": "code",
   "execution_count": 7,
   "metadata": {},
   "outputs": [],
   "source": [
    "import numpy as np\n",
    "import matplotlib.pyplot as plt\n",
    "import seaborn as sns\n",
    "import pandas as pd"
   ]
  },
  {
   "cell_type": "markdown",
   "metadata": {},
   "source": [
    "## Modelo - Funciones"
   ]
  },
  {
   "cell_type": "code",
   "execution_count": 8,
   "metadata": {},
   "outputs": [],
   "source": [
    "def h(X, W):\n",
    "    return np.dot(X, W.T)\n",
    "\n",
    "def Error(X, W, Y,lam):\n",
    "    n = len(Y)\n",
    "    y_pred = h(X,W)\n",
    "    return (np.linalg.norm((Y - y_pred))**2)/(2*len(Y))\n",
    "\n",
    "def derivada(X, W, Y, lam):\n",
    "    y_pred = h(X,W)\n",
    "    dw =  np.matmul(Y - y_pred,-X)/len(Y)\n",
    "    # db =  np.sum((Y - y_pred)*(-1))/len(Y)\n",
    "    return dw\n",
    "\n",
    "def update(W,  dW, alpha):\n",
    "  # write your code here\n",
    "  return W - alpha*dW # multiplico alpha (constante) por dw (vector). No necesito transpose\n",
    "\n",
    "def train(X, Y, epochs, alpha, lam):\n",
    "    np.random.seed(2001)\n",
    "    W = np.array([np.random.rand() for i in range(X.shape[1])])\n",
    "    loss = []\n",
    "    epochs_list = []\n",
    "\n",
    "    for i in range(epochs):\n",
    "        dW = derivada(X, W, Y, lam)\n",
    "        W = update(W, dW, alpha)\n",
    "        L = Error(X, W, Y, lam)\n",
    "        loss.append(L)\n",
    "        epochs_list.append(i)\n",
    "        if i % 10000 == 0:\n",
    "            print(f\"Epoch {i}: Loss = {L}\")\n",
    "\n",
    "    return W, loss, epochs_list"
   ]
  },
  {
   "cell_type": "markdown",
   "metadata": {},
   "source": [
    "## Regularización - Funciones"
   ]
  },
  {
   "cell_type": "code",
   "execution_count": 9,
   "metadata": {},
   "outputs": [],
   "source": [
    "# Modelo L1 regularization (LASSO)\n",
    "\n",
    "def Error_L1(X, W, Y,lam):\n",
    "    n = len(Y)\n",
    "    y_pred = h(X,W)\n",
    "    return ((np.linalg.norm((Y - y_pred))**2)/(2*len(Y))) + lam*W\n",
    "\n",
    "def derivada_L1(X, W, Y, lam):\n",
    "    y_pred = h(X,W)\n",
    "    dw =  (np.matmul(Y - y_pred,-X)/len(Y)) + lam\n",
    "    return dw\n",
    "\n",
    "def train_L1(X, Y, epochs, alpha, lam):\n",
    "    np.random.seed(2001)\n",
    "    W = np.array([np.random.rand() for i in range(X.shape[1])])\n",
    "    loss = []\n",
    "    epochs_list = []\n",
    "\n",
    "    for i in range(epochs):\n",
    "        dW = derivada_L1(X, W, Y, lam)\n",
    "        W = update(W, dW, alpha)\n",
    "        L = Error_L1(X, W, Y, lam)\n",
    "        loss.append(L)\n",
    "        epochs_list.append(i)\n",
    "        if i % 10000 == 0:\n",
    "            print(f\"Epoch {i}: Loss = {L}\")\n",
    "\n",
    "    return W, loss, epochs_list\n",
    "\n",
    "# Modelo L2 regularization (Ridge)\n",
    "\n",
    "def Error_L2(X, W, Y,lam):\n",
    "    n = len(Y)\n",
    "    y_pred = h(X,W)\n",
    "    return ((np.linalg.norm((Y - y_pred))**2)/(2*len(Y))) + lam*(np.linalg.norm(W)**2)\n",
    "\n",
    "def derivada_L2(X, W, Y, lam):\n",
    "    y_pred = h(X,W)\n",
    "    dw =  (np.matmul(Y - y_pred,-X)/len(Y)) + 2*lam*W\n",
    "    return dw\n",
    "\n",
    "def train_L2(X, Y, epochs, alpha, lam):\n",
    "    np.random.seed(2001)\n",
    "    W = np.array([np.random.rand() for i in range(X.shape[1])])\n",
    "    loss = []\n",
    "    epochs_list = []\n",
    "\n",
    "    for i in range(epochs):\n",
    "        dW = derivada_L2(X, W, Y, lam)\n",
    "        W = update(W, dW, alpha)\n",
    "        L = Error_L2(X, W, Y, lam)\n",
    "        loss.append(L)\n",
    "        epochs_list.append(i)\n",
    "        if i % 10000 == 0:\n",
    "            print(f\"Epoch {i}: Loss = {L}\")\n",
    "\n",
    "    return W, loss, epochs_list"
   ]
  },
  {
   "cell_type": "markdown",
   "metadata": {},
   "source": [
    "## Trainer"
   ]
  },
  {
   "cell_type": "code",
   "execution_count": 12,
   "metadata": {},
   "outputs": [
    {
     "name": "stdout",
     "output_type": "stream",
     "text": [
      "(1464, 4)\n",
      "(9615, 3)\n",
      "Epoch 0: Loss = 0.021209336481035665\n",
      "Epoch 10000: Loss = 0.0021418790181197216\n",
      "Epoch 20000: Loss = 0.0021418777035888646\n",
      "Epoch 30000: Loss = 0.0021418764137534387\n",
      "Epoch 40000: Loss = 0.002141875127973389\n"
     ]
    },
    {
     "data": {
      "image/png": "[encoded data removed]",
      "text/plain": [
       "<Figure size 640x480 with 1 Axes>"
      ]
     },
     "metadata": {},
     "output_type": "display_data"
    }
   ],
   "source": [
    "# Carga tus datos y realiza el preprocesamiento necesario\n",
    "df = pd.read_csv(\"./Data/train.csv\")\n",
    "df_test = pd.read_csv(\"./Data/test.csv\")\n",
    "\n",
    "data_test = df_test[[\"CANT_META_SEM\", \"AVAN_FISICO_SEM\", \"SEC_FUNC\"]]\n",
    "data_train = \t\t df[[\"CANT_META_SEM\", \"AVAN_FISICO_SEM\", \"SEC_FUNC\", \"MTO_PIA\"]]\n",
    "\n",
    "data_train = data_train.to_numpy()\n",
    "data_test = data_test.to_numpy()\n",
    "\n",
    "print(data_train.shape)\n",
    "print(data_test.shape)\n",
    "\n",
    "x_train = data_train[:, :(data_train.shape[1] - 1)]  # Todas las columnas menos la última\n",
    "y_train = data_train[:, -1]  # Última columna del dataset\n",
    "\n",
    "# Normalizar los datos de entrenamiento\n",
    "x_train = (x_train - np.min(x_train)) / (np.max(x_train) - np.min(x_train))\n",
    "y_train = (y_train - np.min(y_train)) / (np.max(y_train) - np.min(y_train))\n",
    "\n",
    "x_train_nor = np.insert(x_train, 0, 1, axis=1)\n",
    "\n",
    "# Normalizar los datos de prueba\n",
    "x_test = (data_test - np.min(data_test)) / (np.max(data_test) - np.min(data_test))\n",
    "x_test = np.insert(x_test, 0, 1, axis=1)\n",
    "\n",
    "\n",
    "# Entrenar el modelo de regresión no lineal\n",
    "W, loss, ep = train(x_train_nor, y_train, epochs=50000, alpha=0.05, lam=0.001)\n",
    "\n",
    "plt.plot(ep, loss)\n",
    "plt.show()\n",
    "\n",
    "# Realiza predicciones en el conjunto de datos de prueba\n",
    "y_aprox = h(x_test, W)\n",
    "yy_train = data_train[:, -1]\n",
    "\n",
    "yy_aprox = y_aprox*(np.max(yy_train) - np.min(yy_train)) + np.min(yy_train)\n",
    "\n",
    "submission_df = pd.DataFrame({'MT0_PIA': yy_aprox})\n",
    "submission_df.index.name = 'ID'\n",
    "submission_df.index += 1\n",
    "\n",
    "submission_df.to_csv('submission.csv')\n",
    "\n"
   ]
  },
  {
   "cell_type": "markdown",
   "metadata": {},
   "source": [
    "## Implementación regualciones "
   ]
  },
  {
   "cell_type": "code",
   "execution_count": 13,
   "metadata": {},
   "outputs": [
    {
     "name": "stdout",
     "output_type": "stream",
     "text": [
      "Epoch 0: Loss = [0.02135898 0.02128058 0.02215955 0.02213856]\n",
      "Epoch 10000: Loss = [0.00220744 0.00165763 0.0024787  0.00262973]\n",
      "Epoch 20000: Loss = [0.00220849 0.00154484 0.00255532 0.00213115]\n",
      "Epoch 30000: Loss = [0.00220956 0.0014323  0.00263186 0.00163263]\n",
      "Epoch 40000: Loss = [0.00221072 0.00132006 0.00270836 0.00113421]\n",
      "[ 0.01786512 -0.98597188  0.59068404 -1.55814721]\n"
     ]
    }
   ],
   "source": [
    "# L1\n",
    "W_L1, loss_L1, ep_L1 = train_L1(x_train_nor, y_train, epochs=50000, alpha=0.05, lam=0.001)\n",
    "print(W_L1)"
   ]
  },
  {
   "cell_type": "code",
   "execution_count": 14,
   "metadata": {},
   "outputs": [
    {
     "name": "stdout",
     "output_type": "stream",
     "text": [
      "Epoch 0: Loss = 0.02303763940677367\n",
      "Epoch 10000: Loss = 0.0022911103176319284\n",
      "Epoch 20000: Loss = 0.0021628051830727513\n",
      "Epoch 30000: Loss = 0.0021454580158274048\n",
      "Epoch 40000: Loss = 0.002143112631040876\n",
      "[0.01661058 0.00376772 0.011562   0.00672543]\n"
     ]
    }
   ],
   "source": [
    "# L2\n",
    "W_L2, loss_L2, ep_L2 = train_L2(x_train_nor, y_train, epochs=50000, alpha=0.05, lam=0.001)\n",
    "print(W_L2)"
   ]
  }
 ],
 "metadata": {
  "kernelspec": {
   "display_name": "Python 3",
   "language": "python",
   "name": "python3"
  },
  "language_info": {
   "codemirror_mode": {
    "name": "ipython",
    "version": 3
   },
   "file_extension": ".py",
   "mimetype": "text/x-python",
   "name": "python",
   "nbconvert_exporter": "python",
   "pygments_lexer": "ipython3",
   "version": "3.12.3"
  }
 },
 "nbformat": 4,
 "nbformat_minor": 2
}
